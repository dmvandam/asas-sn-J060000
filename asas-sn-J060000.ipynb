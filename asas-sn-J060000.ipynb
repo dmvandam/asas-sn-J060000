{
 "cells": [
  {
   "cell_type": "markdown",
   "metadata": {},
   "source": [
    "# ASAS-SN-J06000 Light Curve Analysis\n",
    "\n",
    "M Kenworthy kenworthy@strw.leidenuniv.nl // Leiden Observatory\n",
    "\n",
    "2019 Dec 13\n",
    "\n",
    "Astronomers telegram http://www.astronomerstelegram.org/?read=13346 reports an unusual dimming star ASASSN-V J060000.76-310027.83.\n",
    "\n",
    "No dimming for 2200 days, then it is dipping with increasing drop over 0.25 mags over 1 day.\n",
    "\n",
    "Eric Mamajek tweet on it: https://twitter.com/EricMamajek/status/1205229364037570561\n",
    "\n",
    "This looks like a completely normal, negligibly reddened ~K5.5 dwarf. Low velocity and spot on solar main sequence => thin disk. 3D velocity no where near nearby very young clusters/associations, so unlikely to be <100 Myr. #GaiaDR2 Teff and luminosity appear to be spot on.\n",
    "\n",
    "\n",
    "ASASSN-V J060000.76-310027.83 (position from Gaia DR2, source_id=2891196718939580672, d=156 pc, L=0.14 L_sun, T_eff=4270 K)"
   ]
  },
  {
   "cell_type": "code",
   "execution_count": 9,
   "metadata": {},
   "outputs": [],
   "source": [
    "import numpy as np\n",
    "from astropy import constants as c\n",
    "from astropy import units as u\n",
    "import matplotlib.pyplot as plt\n",
    "\n",
    "params = {'legend.fontsize': 'x-large',\n",
    "          'figure.figsize': (15, 5),\n",
    "         'axes.labelsize': 'x-large',\n",
    "         'axes.titlesize':'x-large',\n",
    "         'xtick.labelsize':'x-large',\n",
    "         'ytick.labelsize':'x-large'}\n",
    "plt.rcParams.update(params)\n",
    "\n",
    "@u.quantity_input\n",
    "def atoP(a:u.au, m1:u.M_sun, m2:u.M_jup)->u.year:\n",
    "    \"\"\"\n",
    "    Calculate period from orbital radius and masses\n",
    "\n",
    "    Args:\n",
    "        a: semi-major axis\n",
    "        m1, m2: Primary and secondary masses\n",
    "\n",
    "    Returns:\n",
    "        P: orbital period\n",
    "\n",
    "    >>> import astropy.units as u\n",
    "    >>> atoP(1.*u.au, 1.0*u.M_sun, 1.0*u.M_jup)\n",
    "    <Quantity 0.99954192 yr>\n",
    "    \"\"\"\n",
    "\n",
    "    # a^3/P^2 = (G/4pipi) (m1 + m2)\n",
    "\n",
    "    const = c.G/(4.*np.pi*np.pi)\n",
    "\n",
    "    mu = m1 + m2\n",
    "\n",
    "    P2 = np.power(a,3.)/(const*mu)\n",
    "\n",
    "    P = np.power(P2, 0.5)\n",
    "    return P\n",
    "\n",
    "@u.quantity_input\n",
    "def Ptoa(P:u.year, m1:u.M_sun, m2:u.M_jup)->u.au:\n",
    "    \"\"\"calculate orbital radius from period\n",
    "\n",
    "    Args:\n",
    "        P: orbital period\n",
    "        m1, m2: Primary and secondary masses\n",
    "\n",
    "    Returns:\n",
    "        a: semi-major axis\n",
    "\n",
    "    >>> import astropy.units as u\n",
    "    >>> Ptoa(11.86*u.year, 1.0*u.M_sun, 1.0*u.M_jup)\n",
    "    <Quantity 5.20222482 AU>\n",
    "    \"\"\"\n",
    "\n",
    "    # a^3/P^2 = (G/4pipi) (m1 + m2)\n",
    "    const = c.G / (4.*np.pi*np.pi)\n",
    "    mu = m1 + m2\n",
    "    a3 = P*P*const*mu\n",
    "    aa = np.power(a3, 1./3.)\n",
    "    \n",
    "    return aa\n",
    "\n",
    "@u.quantity_input\n",
    "def rhill(m1: u.Msun, m2: u.Mjup, a: u.au)->u.au:\n",
    "    \"\"\"\n",
    "    Hill radius of the secondary m2 orbiting around m1\n",
    "    \n",
    "    Args:\n",
    "        m1, m2: primary and secondary masses\n",
    "        a: distance between m1 and m2\n",
    "\n",
    "    Returns:\n",
    "        rhill: radius of Hill sphere of m2\n",
    "\n",
    "    >>> import astropy.units as u\n",
    "    >>> rhill(1.0 * u.M_sun, 1.0 * u.M_jup, 5.2 * u.au)\n",
    "    <Quantity 0.35489325 AU>\n",
    "    \"\"\"\n",
    "\n",
    "    mu = m2 / (m1 + m2)\n",
    "    rh = a * np.power(mu/3., 1./3.)\n",
    "    return rh"
   ]
  },
  {
   "cell_type": "markdown",
   "metadata": {},
   "source": [
    "## First impressions\n",
    "\n",
    "Okay, let's have an overview of the data by plotting it warts and all:"
   ]
  },
  {
   "cell_type": "code",
   "execution_count": 10,
   "metadata": {},
   "outputs": [
    {
     "data": {
      "text/plain": [
       "Text(0, 0.5, 'Flux [mJy]')"
      ]
     },
     "execution_count": 10,
     "metadata": {},
     "output_type": "execute_result"
    },
    {
     "data": {
      "image/png": "[encoded data removed]",
      "text/plain": [
       "<Figure size 1080x360 with 1 Axes>"
      ]
     },
     "metadata": {
      "needs_background": "light"
     },
     "output_type": "display_data"
    }
   ],
   "source": [
    "\n",
    "from astropy.io import ascii\n",
    "t = ascii.read('light_curve_b4508c12-b04a-467c-9e20-6881885cf0fb.csv')\n",
    "t['MJD'] = t['HJD']-2400000.5\n",
    "\n",
    "plt.errorbar(t['MJD'],t['flux(mJy)'],yerr=t['flux_err'], fmt='.')\n",
    "plt.xlim(58800,58830)\n",
    "plt.ylim(0,10)\n",
    "plt.xlabel('Epoch [MJD]')\n",
    "plt.ylabel('Flux [mJy]')"
   ]
  },
  {
   "cell_type": "markdown",
   "metadata": {},
   "source": [
    "So, lots of bad points with high r.m.s. We'll make a histogram of the r.m.s. noise and pull out the good photometry:"
   ]
  },
  {
   "cell_type": "code",
   "execution_count": 11,
   "metadata": {},
   "outputs": [
    {
     "data": {
      "image/png": "[encoded data removed]",
      "text/plain": [
       "<Figure size 1080x360 with 1 Axes>"
      ]
     },
     "metadata": {
      "needs_background": "light"
     },
     "output_type": "display_data"
    }
   ],
   "source": [
    "# make histogram of errors to see good and bad points\n",
    "\n",
    "plt.hist(t['flux_err'],bins=100, range=(0,5));\n",
    "plt.xlabel('flux_err [r.m.s. mJy]')\n",
    "plt.ylabel('N')\n",
    "\n",
    "# reject points with noise > 0.5 mJy\n",
    "noise_rej = 0.5\n",
    "\n",
    "s = t[t['flux_err']<noise_rej]\n",
    "\n",
    "plt.hist(s['flux_err'],bins=100, range=(0,5));\n"
   ]
  },
  {
   "cell_type": "markdown",
   "metadata": {},
   "source": [
    "## Normalise the light curve\n",
    "\n",
    "Plot out the whole light curve, select points outside of the eclipse and calculate the mean out of eclipse flux:"
   ]
  },
  {
   "cell_type": "code",
   "execution_count": 12,
   "metadata": {},
   "outputs": [
    {
     "data": {
      "image/png": "[encoded data removed]",
      "text/plain": [
       "<Figure size 1080x360 with 1 Axes>"
      ]
     },
     "metadata": {
      "needs_background": "light"
     },
     "output_type": "display_data"
    }
   ],
   "source": [
    "plt.errorbar(s['MJD'],s['flux(mJy)'],yerr=s['flux_err'],marker='s', mfc='red',\n",
    "                 mec='green', ms=2, mew=4, fmt='.')\n",
    "plt.xlim(58720,58830)\n",
    "plt.ylim(0,10)\n",
    "plt.xlabel('Epoch [MJD]')\n",
    "plt.ylabel('Flux [mJy]')\n",
    "\n",
    "# continuum points in the light curve\n",
    "con = s[s['MJD']<58780]\n",
    "mean_flux = con['flux(mJy)'].mean()\n",
    "\n",
    "plt.hlines(mean_flux,58600,58830);"
   ]
  },
  {
   "cell_type": "markdown",
   "metadata": {},
   "source": [
    "## Measure the steepest gradient of light curve\n",
    "\n",
    "WIth the normalised flux light curve, fit a straight line to the steepest part and determine the gradient."
   ]
  },
  {
   "cell_type": "code",
   "execution_count": 13,
   "metadata": {},
   "outputs": [
    {
     "name": "stdout",
     "output_type": "stream",
     "text": [
      "rate of change of light curve is -0.053 $L_*/d$\n"
     ]
    },
    {
     "data": {
      "image/png": "[encoded data removed]",
      "text/plain": [
       "<Figure size 1080x360 with 1 Axes>"
      ]
     },
     "metadata": {
      "needs_background": "light"
     },
     "output_type": "display_data"
    }
   ],
   "source": [
    "plt.errorbar(s['MJD'],s['flux(mJy)']/mean_flux,yerr=s['flux_err']/mean_flux,marker='s', mfc='red',\n",
    "                 mec='green', ms=2, mew=4, fmt='.')\n",
    "plt.xlim(58800,58830)\n",
    "plt.ylim(0,1)\n",
    "plt.xlabel('Epoch [MJD]')\n",
    "plt.ylabel('Flux [normalised]')\n",
    "\n",
    "# select all points in the steepest part of the light curve\n",
    "slo = s[s['MJD']>58822]\n",
    "\n",
    "mean_t = s['MJD'].mean()\n",
    "\n",
    "# fit a straight line to the steepest part of the light curve\n",
    "z = np.polyfit(slo['MJD']-mean_t, slo['flux(mJy)']/mean_flux, 1)\n",
    "\n",
    "p = np.poly1d(z)\n",
    "\n",
    "plt.plot(slo['MJD'],p(slo['MJD']-mean_t))\n",
    "\n",
    "lc_gradient = z[0]\n",
    "print('rate of change of light curve is {:.3f} $L_*/d$'.format(lc_gradient))"
   ]
  },
  {
   "cell_type": "markdown",
   "metadata": {},
   "source": [
    "### Properties of the star\n",
    "\n",
    "Taken from Eric Mamajek's tweets:\n",
    "\n",
    "https://twitter.com/EricMamajek/status/1205272591855828992\n",
    "\n",
    "Getting mass of 0.651 +- 0.025 Msun from @amannastro's 2018 calibration for absolute Ks magnitude (M_Ks=4.632; ignoring negligible reddening at K-band). Getting similar numbers from calibrations for eclipsing binaries (~0.67-0.68 Msun).\n",
    "\n",
    "https://twitter.com/EricMamajek/status/1205246271889403904\n",
    "\n",
    "For the new ASSN star that is dimming, I'm getting preliminary values of\n",
    "Teff = 4410+-50K (photometric from BVJHKs photometry only, assumes solar metallicity), \n",
    "logL = -0.863+-0.015 dex, \n",
    "radius = 0.634+-0.018 Rsun. \n",
    "GaiaDR2 lists radius = 0.69 (0.64-0.71) Rsun."
   ]
  },
  {
   "cell_type": "code",
   "execution_count": 14,
   "metadata": {},
   "outputs": [],
   "source": [
    "r_star = 0.63 * u.Rsun\n",
    "m_star = 0.65 * u.Msun\n",
    "\n",
    "t_eclipse = 45 * u.day # half of the eclipse, eyeballing it..."
   ]
  },
  {
   "cell_type": "markdown",
   "metadata": {},
   "source": [
    "Calculate the transverse velocity of a knife edge crossing the star using [van Werkhoven (2014)](https://ui.adsabs.harvard.edu/abs/2014MNRAS.441.2845V/abstract):    "
   ]
  },
  {
   "cell_type": "code",
   "execution_count": 15,
   "metadata": {},
   "outputs": [
    {
     "name": "stdout",
     "output_type": "stream",
     "text": [
      "transverse ring edge velocity is 0.39 km / s\n"
     ]
    }
   ],
   "source": [
    "v = 13 * (u.km / u.s) * -lc_gradient * (r_star/(1.13*u.Rsun))\n",
    "print('transverse ring edge velocity is {:.2f}'.format(v))"
   ]
  },
  {
   "cell_type": "markdown",
   "metadata": {},
   "source": [
    "What's the orbital distance for this velocity (again using [van Werkhoven (2014)](https://ui.adsabs.harvard.edu/abs/2014MNRAS.441.2845V/abstract)), and how big is the object assuming $v.t_{eclipse}$ ?"
   ]
  },
  {
   "cell_type": "code",
   "execution_count": 16,
   "metadata": {},
   "outputs": [
    {
     "name": "stdout",
     "output_type": "stream",
     "text": [
      "Orbital distance for the derived velocity: 3846 AU\n",
      "Radius of the occulting object given the derived velocity: 0.010 AU\n",
      "Radius of the occulting object given the derived velocity: 1507024.924 km\n"
     ]
    }
   ],
   "source": [
    "a_occulter = 8.0 * u.au * m_star / (0.9*u.Msun) * np.power(v/(10.*(u.km/u.s)),-2)\n",
    "print('Orbital distance for the derived velocity: {:.0f}'.format(a_occulter.to(u.au)))\n",
    "r_object = (v * t_eclipse).to(u.au)\n",
    "\n",
    "print('Radius of the occulting object given the derived velocity: {:.3f}'.format(r_object))\n",
    "print('Radius of the occulting object given the derived velocity: {:.3f}'.format(r_object.to(u.km)))"
   ]
  },
  {
   "cell_type": "markdown",
   "metadata": {},
   "source": [
    "## Conclusions\n",
    "\n",
    "The light curve has a gradient of about $0.02 L_\\odot/d$, corresponding to an orbital distance of over 3000AU, and a derived diameter of about 0.01 AU or about 1.5 million km. Could be a ring system, or a disk around a substellar object or low mass star. It will be interesting to see where this goes. "
   ]
  },
  {
   "cell_type": "code",
   "execution_count": null,
   "metadata": {},
   "outputs": [],
   "source": []
  }
 ],
 "metadata": {
  "kernelspec": {
   "display_name": "Python 3",
   "language": "python",
   "name": "python3"
  },
  "language_info": {
   "codemirror_mode": {
    "name": "ipython",
    "version": 3
   },
   "file_extension": ".py",
   "mimetype": "text/x-python",
   "name": "python",
   "nbconvert_exporter": "python",
   "pygments_lexer": "ipython3",
   "version": "3.7.4"
  }
 },
 "nbformat": 4,
 "nbformat_minor": 2
}
