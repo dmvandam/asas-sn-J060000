{
 "cells": [
  {
   "cell_type": "markdown",
   "metadata": {},
   "source": [
    "# Combining and reducing the ASAS-SN data\n",
    "\n"
   ]
  },
  {
   "cell_type": "code",
   "execution_count": 25,
   "metadata": {},
   "outputs": [],
   "source": [
    "import numpy as np\n",
    "import matplotlib.pyplot as plt\n"
   ]
  },
  {
   "cell_type": "code",
   "execution_count": 39,
   "metadata": {},
   "outputs": [
    {
     "name": "stdout",
     "output_type": "stream",
     "text": [
      "light_curve_bb61d0ed-b07f-4e87-8881-769866dd896e.csv\n",
      "light_curve_03ce0bc8-42ef-48f4-a463-ce657f0bf77a.csv\n",
      "light_curve_b4508c12-b04a-467c-9e20-6881885cf0fb.csv\n",
      "     HJD           UT Date       Camera FWHM ... flux(mJy) flux_err Filter\n",
      "------------- ------------------ ------ ---- ... --------- -------- ------\n",
      "2456590.00586 2013-10-24.5041408     ba 2.13 ...     99.99    99.99      V\n",
      "2456590.00725 2013-10-24.5055217     ba 2.13 ...    12.687    0.337      V\n",
      "2456600.98902 2013-11-04.4867956     ba 2.21 ...    12.147    0.214      V\n",
      " 2456600.9904 2013-11-04.4881665     ba 2.23 ...    13.364    0.222      V\n",
      "2456603.98523 2013-11-07.4828857     ba 2.33 ...     10.44    1.003      V\n",
      "2456603.98661 2013-11-07.4842576     ba 2.34 ...    13.605    0.508      V\n",
      " 2456615.9139 2013-11-19.4111166     ba 2.45 ...    10.355    0.531      V\n",
      "  2456616.914 2013-11-20.4111902     ba 2.47 ...    14.718    0.517      V\n",
      "2456616.91538 2013-11-20.4125663     ba 2.46 ...     13.04     0.54      V\n",
      "2456618.89508 2013-11-22.3922070     ba 2.19 ...     13.28      0.4      V\n",
      "          ...                ...    ...  ... ...       ...      ...    ...\n",
      "2458826.77495 2019-12-09.2717413     bi 1.39 ...     4.397    0.179      g\n",
      "2458826.77618 2019-12-09.2729745     bi  1.4 ...     4.432    0.174      g\n",
      " 2458826.7774 2019-12-09.2741907     bi 1.38 ...     4.032    0.195      g\n",
      "2458827.70882 2019-12-10.2055930     bE 1.47 ...     4.332    0.184      g\n",
      "2458827.71012 2019-12-10.2068987     bE  1.5 ...     3.958    0.173      g\n",
      " 2458827.7114 2019-12-10.2081711     bE 1.46 ...      3.77    0.187      g\n",
      "2458828.54136 2019-12-11.0381159     bm 1.54 ...     2.738    0.235      g\n",
      "2458828.54379 2019-12-11.0405524     bm 1.54 ...     3.567    0.233      g\n",
      "2458828.65909 2019-12-11.1558555     bE 1.55 ...     3.474    0.202      g\n",
      "2458828.66038 2019-12-11.1571383     bE 1.53 ...     3.397    0.201      g\n",
      "2458828.66166 2019-12-11.1584142     bE  1.5 ...     3.367    0.216      g\n",
      "Length = 3145 rows\n"
     ]
    }
   ],
   "source": [
    "from astropy.table import Table, vstack, unique\n",
    "from pathlib import Path\n",
    "from astropy.io import ascii\n",
    "\n",
    "# output table\n",
    "#t = Table(data=None,names=('MJD','gmag','gmag_err','obs'),dtype=('f','f','f','str'))\n",
    "t=Table()\n",
    "for filename in Path('./').rglob('light_curve*.csv'):\n",
    "    print(filename)\n",
    "    tin = ascii.read(filename)\n",
    "    t = vstack([t,tin])\n",
    "\n",
    "print(t)\n",
    "# remove duplicates\n",
    "t = unique(t,'HJD')\n",
    "t.sort('HJD')\n",
    "t['MJD'] = t['HJD']-2400000.5\n"
   ]
  },
  {
   "cell_type": "code",
   "execution_count": 40,
   "metadata": {},
   "outputs": [
    {
     "data": {
      "text/html": [
       "<i>Table masked=True length=2836</i>\n",
       "<table id=\"table4853287760\" class=\"table-striped table-bordered table-condensed\">\n",
       "<thead><tr><th>HJD</th><th>UT Date</th><th>Camera</th><th>FWHM</th><th>Limit</th><th>mag</th><th>mag_err</th><th>flux(mJy)</th><th>flux_err</th><th>Filter</th><th>MJD</th></tr></thead>\n",
       "<thead><tr><th>float64</th><th>str18</th><th>str2</th><th>float64</th><th>float64</th><th>str7</th><th>float64</th><th>float64</th><th>float64</th><th>str1</th><th>float64</th></tr></thead>\n",
       "<tr><td>2456590.00586</td><td>2013-10-24.5041408</td><td>ba</td><td>2.13</td><td>99.99</td><td>99.990</td><td>99.99</td><td>99.99</td><td>99.99</td><td>V</td><td>56589.50585999992</td></tr>\n",
       "<tr><td>2456590.00725</td><td>2013-10-24.5055217</td><td>ba</td><td>2.13</td><td>15.94</td><td>13.702</td><td>0.029</td><td>12.687</td><td>0.337</td><td>V</td><td>56589.50724999979</td></tr>\n",
       "<tr><td>2456600.98902</td><td>2013-11-04.4867956</td><td>ba</td><td>2.21</td><td>16.432</td><td>13.748</td><td>0.019</td><td>12.147</td><td>0.214</td><td>V</td><td>56600.48902000021</td></tr>\n",
       "<tr><td>2456600.9904</td><td>2013-11-04.4881665</td><td>ba</td><td>2.23</td><td>16.391</td><td>13.645</td><td>0.018</td><td>13.364</td><td>0.222</td><td>V</td><td>56600.49040000001</td></tr>\n",
       "<tr><td>2456603.98523</td><td>2013-11-07.4828857</td><td>ba</td><td>2.33</td><td>14.747</td><td>13.913</td><td>0.106</td><td>10.44</td><td>1.003</td><td>V</td><td>56603.485230000224</td></tr>\n",
       "<tr><td>2456603.98661</td><td>2013-11-07.4842576</td><td>ba</td><td>2.34</td><td>15.493</td><td>13.626</td><td>0.041</td><td>13.605</td><td>0.508</td><td>V</td><td>56603.48661000002</td></tr>\n",
       "<tr><td>2456615.9139</td><td>2013-11-19.4111166</td><td>ba</td><td>2.45</td><td>15.415</td><td>13.922</td><td>0.057</td><td>10.355</td><td>0.531</td><td>V</td><td>56615.41390000004</td></tr>\n",
       "<tr><td>2456616.914</td><td>2013-11-20.4111902</td><td>ba</td><td>2.47</td><td>15.465</td><td>13.540</td><td>0.038</td><td>14.718</td><td>0.517</td><td>V</td><td>56616.41399999987</td></tr>\n",
       "<tr><td>2456616.91538</td><td>2013-11-20.4125663</td><td>ba</td><td>2.46</td><td>15.404</td><td>13.672</td><td>0.045</td><td>13.04</td><td>0.54</td><td>V</td><td>56616.41538000014</td></tr>\n",
       "<tr><td>2456618.89508</td><td>2013-11-22.3922070</td><td>ba</td><td>2.19</td><td>15.738</td><td>13.651</td><td>0.033</td><td>13.28</td><td>0.4</td><td>V</td><td>56618.39508000016</td></tr>\n",
       "<tr><td>...</td><td>...</td><td>...</td><td>...</td><td>...</td><td>...</td><td>...</td><td>...</td><td>...</td><td>...</td><td>...</td></tr>\n",
       "<tr><td>2458835.56839</td><td>2019-12-18.0650957</td><td>bm</td><td>2.05</td><td>99.99</td><td>99.990</td><td>99.99</td><td>99.99</td><td>99.99</td><td>g</td><td>58835.068390000146</td></tr>\n",
       "<tr><td>2458835.71532</td><td>2019-12-18.2120252</td><td>bi</td><td>1.53</td><td>16.708</td><td>14.597</td><td>0.031</td><td>5.264</td><td>0.151</td><td>g</td><td>58835.21531999996</td></tr>\n",
       "<tr><td>2458835.87845</td><td>2019-12-18.3751481</td><td>bq</td><td>1.48</td><td>16.488</td><td>14.667</td><td>0.041</td><td>4.934</td><td>0.185</td><td>g</td><td>58835.37845000019</td></tr>\n",
       "<tr><td>2458835.87968</td><td>2019-12-18.3763878</td><td>bq</td><td>1.45</td><td>16.475</td><td>14.620</td><td>0.04</td><td>5.149</td><td>0.187</td><td>g</td><td>58835.37967999978</td></tr>\n",
       "<tr><td>2458835.8809</td><td>2019-12-18.3776065</td><td>bq</td><td>1.48</td><td>16.463</td><td>14.681</td><td>0.042</td><td>4.872</td><td>0.189</td><td>g</td><td>58835.38090000022</td></tr>\n",
       "<tr><td>2458836.70767</td><td>2019-12-19.2043812</td><td>bi</td><td>1.45</td><td>16.871</td><td>14.644</td><td>0.028</td><td>5.043</td><td>0.13</td><td>g</td><td>58836.207669999916</td></tr>\n",
       "<tr><td>2458836.7089</td><td>2019-12-19.2056078</td><td>bi</td><td>1.42</td><td>16.893</td><td>14.670</td><td>0.028</td><td>4.92</td><td>0.127</td><td>g</td><td>58836.20889999997</td></tr>\n",
       "<tr><td>2458836.71012</td><td>2019-12-19.2068262</td><td>bi</td><td>1.47</td><td>16.875</td><td>14.601</td><td>0.027</td><td>5.247</td><td>0.129</td><td>g</td><td>58836.210119999945</td></tr>\n",
       "<tr><td>2458836.87481</td><td>2019-12-19.3715193</td><td>bq</td><td>1.5</td><td>16.474</td><td>14.585</td><td>0.038</td><td>5.323</td><td>0.187</td><td>g</td><td>58836.37480999995</td></tr>\n",
       "<tr><td>2458836.87727</td><td>2019-12-19.3739730</td><td>bq</td><td>1.5</td><td>16.476</td><td>14.687</td><td>0.042</td><td>4.843</td><td>0.187</td><td>g</td><td>58836.377270000055</td></tr>\n",
       "</table>"
      ],
      "text/plain": [
       "<Table masked=True length=2836>\n",
       "     HJD           UT Date       Camera ... flux_err Filter        MJD        \n",
       "   float64          str18         str2  ... float64   str1       float64      \n",
       "------------- ------------------ ------ ... -------- ------ ------------------\n",
       "2456590.00586 2013-10-24.5041408     ba ...    99.99      V  56589.50585999992\n",
       "2456590.00725 2013-10-24.5055217     ba ...    0.337      V  56589.50724999979\n",
       "2456600.98902 2013-11-04.4867956     ba ...    0.214      V  56600.48902000021\n",
       " 2456600.9904 2013-11-04.4881665     ba ...    0.222      V  56600.49040000001\n",
       "2456603.98523 2013-11-07.4828857     ba ...    1.003      V 56603.485230000224\n",
       "2456603.98661 2013-11-07.4842576     ba ...    0.508      V  56603.48661000002\n",
       " 2456615.9139 2013-11-19.4111166     ba ...    0.531      V  56615.41390000004\n",
       "  2456616.914 2013-11-20.4111902     ba ...    0.517      V  56616.41399999987\n",
       "2456616.91538 2013-11-20.4125663     ba ...     0.54      V  56616.41538000014\n",
       "2456618.89508 2013-11-22.3922070     ba ...      0.4      V  56618.39508000016\n",
       "          ...                ...    ... ...      ...    ...                ...\n",
       "2458835.56839 2019-12-18.0650957     bm ...    99.99      g 58835.068390000146\n",
       "2458835.71532 2019-12-18.2120252     bi ...    0.151      g  58835.21531999996\n",
       "2458835.87845 2019-12-18.3751481     bq ...    0.185      g  58835.37845000019\n",
       "2458835.87968 2019-12-18.3763878     bq ...    0.187      g  58835.37967999978\n",
       " 2458835.8809 2019-12-18.3776065     bq ...    0.189      g  58835.38090000022\n",
       "2458836.70767 2019-12-19.2043812     bi ...     0.13      g 58836.207669999916\n",
       " 2458836.7089 2019-12-19.2056078     bi ...    0.127      g  58836.20889999997\n",
       "2458836.71012 2019-12-19.2068262     bi ...    0.129      g 58836.210119999945\n",
       "2458836.87481 2019-12-19.3715193     bq ...    0.187      g  58836.37480999995\n",
       "2458836.87727 2019-12-19.3739730     bq ...    0.187      g 58836.377270000055"
      ]
     },
     "execution_count": 40,
     "metadata": {},
     "output_type": "execute_result"
    }
   ],
   "source": [
    "t"
   ]
  },
  {
   "cell_type": "code",
   "execution_count": 41,
   "metadata": {},
   "outputs": [
    {
     "data": {
      "image/png": "[encoded data removed]",
      "text/plain": [
       "<Figure size 432x288 with 1 Axes>"
      ]
     },
     "metadata": {
      "needs_background": "light"
     },
     "output_type": "display_data"
    }
   ],
   "source": [
    "\n",
    "plt.hist(t['flux_err'],bins=100, range=(0,5));\n",
    "plt.xlabel('flux_err [r.m.s. mJy]')\n",
    "plt.ylabel('N')\n",
    "\n",
    "# reject points with noise > 0.5 mJy\n",
    "noise_rej = 0.5\n",
    "\n",
    "s = t[t['flux_err']<noise_rej]\n",
    "\n",
    "plt.hist(s['flux_err'],bins=100, range=(0,5));\n"
   ]
  },
  {
   "cell_type": "code",
   "execution_count": 46,
   "metadata": {},
   "outputs": [
    {
     "data": {
      "text/plain": [
       "Text(0, 0.5, 'Flux [mJy]')"
      ]
     },
     "execution_count": 46,
     "metadata": {},
     "output_type": "execute_result"
    },
    {
     "data": {
      "image/png": "[encoded data removed]",
      "text/plain": [
       "<Figure size 432x288 with 1 Axes>"
      ]
     },
     "metadata": {
      "needs_background": "light"
     },
     "output_type": "display_data"
    }
   ],
   "source": [
    "plt.errorbar(s['MJD'],s['flux(mJy)'],yerr=s['flux_err'],marker='s',\n",
    "                 mec='green', ms=2, mew=4, fmt='.')\n",
    "plt.xlim(58720,58830)\n",
    "plt.ylim(0,10)\n",
    "plt.xlabel('Epoch [MJD]')\n",
    "plt.ylabel('Flux [mJy]')\n",
    "\n",
    "# continuum points in the light curve\n",
    "##con = s[s['MJD']<58780]\n",
    "##mean_flux = con['flux(mJy)'].mean()\n",
    "\n",
    "##plt.hlines(mean_flux,58800,58830);"
   ]
  },
  {
   "cell_type": "code",
   "execution_count": 47,
   "metadata": {},
   "outputs": [],
   "source": [
    "t.write('asas.ecsv', format='ascii.ecsv', overwrite=True)"
   ]
  },
  {
   "cell_type": "code",
   "execution_count": null,
   "metadata": {},
   "outputs": [],
   "source": []
  }
 ],
 "metadata": {
  "kernelspec": {
   "display_name": "Python 3",
   "language": "python",
   "name": "python3"
  },
  "language_info": {
   "codemirror_mode": {
    "name": "ipython",
    "version": 3
   },
   "file_extension": ".py",
   "mimetype": "text/x-python",
   "name": "python",
   "nbconvert_exporter": "python",
   "pygments_lexer": "ipython3",
   "version": "3.7.4"
  }
 },
 "nbformat": 4,
 "nbformat_minor": 2
}
